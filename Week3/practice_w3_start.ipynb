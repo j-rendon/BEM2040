{
 "cells": [
  {
   "cell_type": "code",
   "execution_count": null,
   "id": "0a35021c",
   "metadata": {},
   "outputs": [],
   "source": [
    "#Importing the library to connect to the database.\n",
    "import sqlite3\n",
    "#Creating a connection to the database.\n",
    "conn = sqlite3.connect('films_subset.db')\n",
    "#A cursor holds resources for a query. Several cursors can be created for a connection.\n",
    "cur = conn.cursor()"
   ]
  },
  {
   "cell_type": "code",
   "execution_count": null,
   "id": "3fcf9006",
   "metadata": {},
   "outputs": [],
   "source": [
    "# Getting all records in the table called \"film\"\n",
    "query = \"SELECT * FROM film\"\n",
    "cur.execute(query)\n",
    "rows = cur.fetchall()"
   ]
  }
 ],
 "metadata": {
  "kernelspec": {
   "display_name": "Python 3",
   "language": "python",
   "name": "python3"
  },
  "language_info": {
   "codemirror_mode": {
    "name": "ipython",
    "version": 3
   },
   "file_extension": ".py",
   "mimetype": "text/x-python",
   "name": "python",
   "nbconvert_exporter": "python",
   "pygments_lexer": "ipython3",
   "version": "3.8.8"
  }
 },
 "nbformat": 4,
 "nbformat_minor": 5
}
