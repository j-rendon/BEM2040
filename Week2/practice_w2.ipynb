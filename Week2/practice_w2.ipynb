{
 "cells": [
  {
   "cell_type": "code",
   "execution_count": null,
   "id": "30608df5",
   "metadata": {},
   "outputs": [],
   "source": [
    "#Importing the library to connect to the database.\n",
    "import sqlite3\n",
    "#Creating a connection to the database.\n",
    "conn = sqlite3.connect('films_subset.db')\n",
    "#A cursor holds resources for a query.\n",
    "#Several cursors can be created for a connection.\n",
    "cur = conn.cursor()"
   ]
  },
  {
   "cell_type": "code",
   "execution_count": null,
   "id": "2a669c89",
   "metadata": {},
   "outputs": [],
   "source": [
    "# Getting all records in the table called \"film\"\n",
    "query = \"SELECT * FROM film\"\n",
    "cur.execute(query)\n",
    "rows = cur.fetchall()\n",
    "\n",
    "for row in rows:\n",
    "   print(row)"
   ]
  },
  {
   "cell_type": "code",
   "execution_count": null,
   "id": "2f753290",
   "metadata": {},
   "outputs": [],
   "source": [
    "query = \"SELECT * FROM film where film_year_start=1940\"\n",
    "cur.execute(query)\n",
    "rows = cur.fetchall()\n",
    "\n",
    "for row in rows:\n",
    "   print(row)"
   ]
  },
  {
   "cell_type": "code",
   "execution_count": null,
   "id": "4d9de62b",
   "metadata": {},
   "outputs": [],
   "source": [
    "query = \"SELECT * FROM actor\"\n",
    "cur.execute(query)\n",
    "rows = cur.fetchall()\n",
    "\n",
    "for row in rows:\n",
    "   print(row)"
   ]
  },
  {
   "cell_type": "code",
   "execution_count": null,
   "id": "bbefb4b1",
   "metadata": {},
   "outputs": [],
   "source": [
    "#Adding some records to the table actor\n",
    "query = \"insert into actor( \" + \\\n",
    "        \"actor_id,\" + \\\n",
    "        \"actor_name,\" + \\\n",
    "        \"actor_year_born,\" + \\\n",
    "        \"actor_year_dead)\" + \\\n",
    "        \"values (\" + \\\n",
    "        \"?,\" + \\\n",
    "        \"?,\" + \\\n",
    "        \"?,\" + \\\n",
    "        \"?)\"\n",
    "\n",
    "cur.execute(query, (\"a1\", \"Timothée Chalamet\", 1994, None))\n",
    "\n",
    "cur.execute(query, (\"a2\", \"Rebecca Ferguson\", 1983, None))\n",
    "\n",
    "conn.commit()"
   ]
  },
  {
   "cell_type": "code",
   "execution_count": null,
   "id": "8ac8527b",
   "metadata": {},
   "outputs": [],
   "source": [
    "#Listing all records after having added two.\n",
    "print(\"Actors after inserts:\")\n",
    "\n",
    "query = \"SELECT * FROM actor\"\n",
    "cur.execute(query)\n",
    "rows = cur.fetchall()\n",
    "for row in rows:\n",
    "   print(row)"
   ]
  },
  {
   "cell_type": "code",
   "execution_count": null,
   "id": "ab5cf1dd",
   "metadata": {},
   "outputs": [],
   "source": [
    "# Updating the birth year of actor with code \"a1\", that is, Timothée Chalamet\n",
    "print(\"Updating\")\n",
    "query = \"update actor set actor_year_born = ? where actor_id = ?\"\n",
    "\n",
    "cur.execute(query, (1995, \"a1\"))\n",
    "conn.commit()"
   ]
  },
  {
   "cell_type": "code",
   "execution_count": null,
   "id": "0cdfd56e",
   "metadata": {},
   "outputs": [],
   "source": [
    "#Listing actors after the update.\n",
    "query = \"SELECT * FROM actor\"\n",
    "cur.execute(query)\n",
    "rows = cur.fetchall()\n",
    "for row in rows:\n",
    "   print(row)"
   ]
  },
  {
   "cell_type": "code",
   "execution_count": null,
   "id": "ab5fd5ca",
   "metadata": {},
   "outputs": [],
   "source": [
    "#Counting the number of records in table actor.\n",
    "query = \"SELECT count(*) FROM actor\"\n",
    "cur.execute(query)\n",
    "rows = cur.fetchall()\n",
    "print(rows)\n",
    "print(rows[0][0])"
   ]
  },
  {
   "cell_type": "code",
   "execution_count": null,
   "id": "95f5b180",
   "metadata": {},
   "outputs": [],
   "source": [
    "#Closing the connection\n",
    "conn.close()"
   ]
  }
 ],
 "metadata": {
  "kernelspec": {
   "display_name": "Python 3",
   "language": "python",
   "name": "python3"
  },
  "language_info": {
   "codemirror_mode": {
    "name": "ipython",
    "version": 3
   },
   "file_extension": ".py",
   "mimetype": "text/x-python",
   "name": "python",
   "nbconvert_exporter": "python",
   "pygments_lexer": "ipython3",
   "version": "3.8.8"
  }
 },
 "nbformat": 4,
 "nbformat_minor": 5
}
